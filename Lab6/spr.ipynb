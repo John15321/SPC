{
 "metadata": {
  "language_info": {
   "codemirror_mode": {
    "name": "ipython",
    "version": 3
   },
   "file_extension": ".py",
   "mimetype": "text/x-python",
   "name": "python",
   "nbconvert_exporter": "python",
   "pygments_lexer": "ipython3",
   "version": 3
  },
  "orig_nbformat": 2
 },
 "nbformat": 4,
 "nbformat_minor": 2,
 "cells": [
  {
   "source": [
    "# Sprawozdanie 6\n",
    "\n",
    "## Jan Bronicki, Denis Firat, Borys Staszczak"
   ],
   "cell_type": "markdown",
   "metadata": {}
  },
  {
   "source": [
    "## 1. Cel ćwiczenia\n",
    "Zoptymalizować działanie dowolnego 2-elementowego systemu\n",
    "kaskadowego, przyjmując kryterium kosztów\n",
    "\n",
    "$$Q(u_{1}, u_{2}) = (y_{1}-1)^{2} + (y_{2}-2)^{2}$$"
   ],
   "cell_type": "markdown",
   "metadata": {}
  },
  {
   "source": [
    "## 2. Optymalizację działania systemu bez ograniczeń na zasoby metodami: globalną, lokalną."
   ],
   "cell_type": "markdown",
   "metadata": {}
  },
  {
   "cell_type": "code",
   "execution_count": null,
   "metadata": {},
   "outputs": [],
   "source": []
  },
  {
   "source": [
    "## 3. Optymalizację działania systemu z ograniczeniem zasobów:\n",
    "\n",
    "$$\n",
    "    u_{1}^{2}+u_{2}^{2} \\leq 1\n",
    "$$\n",
    "\n",
    "używając metody 2-poziomowej z wybranym typem koordynacji"
   ],
   "cell_type": "markdown",
   "metadata": {}
  },
  {
   "cell_type": "code",
   "execution_count": null,
   "metadata": {},
   "outputs": [],
   "source": []
  },
  {
   "cell_type": "code",
   "execution_count": null,
   "metadata": {},
   "outputs": [],
   "source": []
  },
  {
   "cell_type": "code",
   "execution_count": null,
   "metadata": {},
   "outputs": [],
   "source": []
  },
  {
   "cell_type": "code",
   "execution_count": null,
   "metadata": {},
   "outputs": [],
   "source": []
  }
 ]
}