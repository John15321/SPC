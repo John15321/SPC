{
 "metadata": {
  "language_info": {
   "codemirror_mode": {
    "name": "ipython",
    "version": 3
   },
   "file_extension": ".py",
   "mimetype": "text/x-python",
   "name": "python",
   "nbconvert_exporter": "python",
   "pygments_lexer": "ipython3",
   "version": 3
  },
  "orig_nbformat": 2
 },
 "nbformat": 4,
 "nbformat_minor": 2,
 "cells": [
  {
   "source": [
    "# Sprawozdanie 6\n",
    "\n",
    "## Jan Bronicki, Denis Firat, Borys Staszczak"
   ],
   "cell_type": "markdown",
   "metadata": {}
  },
  {
   "source": [
    "## 1. Cel ćwiczenia\n",
    "Zoptymalizować działanie dowolnego 2-elementowego systemu\n",
    "kaskadowego, przyjmując kryterium kosztów\n",
    "\n",
    "$$Q(u_{1}, u_{2}) = (y_{1}-1)^{2} + (y_{2}-2)^{2}$$\n",
    "\n",
    "System:\n",
    "\n",
    "![opisywany system](system.png \"System\")\n"
   ],
   "cell_type": "markdown",
   "metadata": {}
  },
  {
   "source": [
    "Z powyższego schematu uzyskujemy następujące macierze:\n",
    "\n",
    "$$\n",
    "    A=\\begin{bmatrix}\n",
    "    0.9 & 0\\\\\n",
    "    0 & 0.7\n",
    "    \\end{bmatrix}, \\ \\\n",
    "    B=\\begin{bmatrix}\n",
    "    1 & 0\\\\\n",
    "    0 & 1\n",
    "    \\end{bmatrix}, \\ \\\n",
    "    H=\\begin{bmatrix}\n",
    "    0 & 1\\\\\n",
    "    1 & 0\n",
    "    \\end{bmatrix}\n",
    "$$"
   ],
   "cell_type": "markdown",
   "metadata": {}
  },
  {
   "source": [
    "## 2.1 Metoda lokalna\n",
    "\n",
    "Obliczamy $u_{i}$:\n",
    "\n",
    "$$u_{i}=\\frac{y_{z, i}-a_{i}\\cdot H_{i}\\cdot y_{z}}{b_{i}}$$\n",
    "\n",
    "Podstawiamy:\n",
    "\n",
    "$$\n",
    "    u_{1}=\\frac{1-0.9\\cdot 2}{1}=-0.8\\\\\n",
    "    u_{2}=\\frac{2-0.7}{1}=1.3\n",
    "$$\n",
    "\n",
    "Otrzymujemy:\n",
    "\n",
    "$$\n",
    "    u=\\begin{bmatrix}\n",
    "    -0.8\\\\\n",
    "    1.3\n",
    "    \\end{bmatrix}\n",
    "$$"
   ],
   "cell_type": "markdown",
   "metadata": {}
  },
  {
   "cell_type": "code",
   "execution_count": null,
   "metadata": {},
   "outputs": [],
   "source": []
  },
  {
   "cell_type": "code",
   "execution_count": null,
   "metadata": {},
   "outputs": [],
   "source": []
  },
  {
   "cell_type": "code",
   "execution_count": null,
   "metadata": {},
   "outputs": [],
   "source": []
  },
  {
   "cell_type": "code",
   "execution_count": null,
   "metadata": {},
   "outputs": [],
   "source": []
  },
  {
   "cell_type": "code",
   "execution_count": null,
   "metadata": {},
   "outputs": [],
   "source": []
  },
  {
   "cell_type": "code",
   "execution_count": null,
   "metadata": {},
   "outputs": [],
   "source": []
  },
  {
   "source": [
    "## 2. Optymalizację działania systemu bez ograniczeń na zasoby metodami: globalną, lokalną."
   ],
   "cell_type": "markdown",
   "metadata": {}
  },
  {
   "cell_type": "code",
   "execution_count": null,
   "metadata": {},
   "outputs": [],
   "source": []
  },
  {
   "source": [
    "## 3. Optymalizację działania systemu z ograniczeniem zasobów:\n",
    "\n",
    "$$\n",
    "    u_{1}^{2}+u_{2}^{2} \\leq 1\n",
    "$$\n",
    "\n",
    "używając metody 2-poziomowej z wybranym typem koordynacji"
   ],
   "cell_type": "markdown",
   "metadata": {}
  },
  {
   "cell_type": "code",
   "execution_count": null,
   "metadata": {},
   "outputs": [],
   "source": []
  },
  {
   "cell_type": "code",
   "execution_count": null,
   "metadata": {},
   "outputs": [],
   "source": []
  },
  {
   "cell_type": "code",
   "execution_count": null,
   "metadata": {},
   "outputs": [],
   "source": []
  },
  {
   "cell_type": "code",
   "execution_count": null,
   "metadata": {},
   "outputs": [],
   "source": []
  }
 ]
}