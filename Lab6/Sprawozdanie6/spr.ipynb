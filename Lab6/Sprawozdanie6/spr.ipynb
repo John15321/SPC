{
 "cells": [
  {
   "cell_type": "markdown",
   "metadata": {},
   "source": [
    "# Sprawozdanie 6\n",
    "\n",
    "## Jan Bronicki, Denis Firat, Borys Staszczak"
   ]
  },
  {
   "cell_type": "markdown",
   "metadata": {},
   "source": [
    "## 1. Cel ćwiczenia\n",
    "Zoptymalizować działanie dowolnego 2-elementowego systemu\n",
    "kaskadowego, przyjmując kryterium kosztów\n"
   ]
  },
  {
   "cell_type": "markdown",
   "metadata": {},
   "source": [
    "## 2. Optymalizację działania systemu bez ograniczeń na zasoby metodami: globalną, lokalną.\n",
    "\n",
    "\n",
    "$$Q(u_{1}, u_{2}) = (y_{1}-1)^{2} + (y_{2}-2)^{2}$$\n",
    "\n",
    "System:\n",
    "\n",
    "![opisywany system](system.png \"System\")\n"
   ]
  },
  {
   "cell_type": "markdown",
   "metadata": {},
   "source": [
    "Z powyższego schematu uzyskujemy następujące macierze:\n",
    "\n",
    "$$\n",
    "    A=\\begin{bmatrix}\n",
    "    0.9 & 0\\\\\n",
    "    0 & 0.7\n",
    "    \\end{bmatrix}, \\ \\\n",
    "    B=\\begin{bmatrix}\n",
    "    1 & 0\\\\\n",
    "    0 & 1\n",
    "    \\end{bmatrix}, \\ \\\n",
    "    H=\\begin{bmatrix}\n",
    "    0 & 1\\\\\n",
    "    1 & 0\n",
    "    \\end{bmatrix}\n",
    "$$"
   ]
  },
  {
   "cell_type": "markdown",
   "metadata": {},
   "source": [
    "### 2.1 Metoda lokalna\n",
    "\n",
    "Obliczamy $u_{i}$:\n",
    "\n",
    "$$u_{i}=\\frac{y_{z, i}-a_{i}\\cdot H_{i}\\cdot y_{z}}{b_{i}}$$\n",
    "\n",
    "Podstawiamy:\n",
    "\n",
    "$$\n",
    "    u_{1}=\\frac{1-0.9\\cdot 2}{1}=-0.8\\\\\n",
    "    u_{2}=\\frac{2-0.7}{1}=1.3\n",
    "$$\n",
    "\n",
    "Otrzymujemy:\n",
    "\n",
    "$$\n",
    "    u=\\begin{bmatrix}\n",
    "    -0.8\\\\\n",
    "    1.3\n",
    "    \\end{bmatrix}\n",
    "$$"
   ]
  },
  {
   "cell_type": "markdown",
   "metadata": {},
   "source": [
    "### 2.2 Metoda globalna\n",
    "Ponownie wyznaczamy $u_{1}$ i $u_{2}$:\n",
    "\n",
    "$$\n",
    "    K=(I-AB)^{-1} B \\\\\n",
    "    u_{i}=K^{-1}y\n",
    "$$\n",
    "\n",
    "Uzyskujemy:\n",
    "\n",
    "$$\n",
    "    u=\\begin{bmatrix}\n",
    "    -0.8\\\\\n",
    "    1.3\n",
    "    \\end{bmatrix}\n",
    "$$"
   ]
  },
  {
   "cell_type": "markdown",
   "metadata": {},
   "source": [
    "## 3. Optymalizację działania systemu z ograniczeniem zasobów:\n",
    "\n",
    "$$\n",
    "    u_{1}^{2}+u_{2}^{2} \\leq 1\n",
    "$$\n",
    "\n",
    "używając metody 2-poziomowej z wybranym typem koordynacji"
   ]
  },
  {
   "cell_type": "markdown",
   "metadata": {},
   "source": [
    "Dla każdego $u_{1}$ znajdujemy przedział $u_{2}$. Następnie, dla każdej możliwości $u_{1}$ i $u_{2}$ obliczamy $Q$ i patrzymy gdzie jest najmniejsze. Na końcu printujemy najmniejsze $Q$, $u_{1}$ oraz $u_{2}$\n",
    "\n",
    "![wykres](kolko.png \"Ograniczenia jako koło\")\n",
    "\n",
    "\n",
    "Dla uproszczenia obliczeń przyjeliśmy postać układu:\n",
    "\n",
    "$$\n",
    "    A=\\begin{bmatrix}\n",
    "    1 & 0\\\\\n",
    "    0 & 1\n",
    "    \\end{bmatrix}, \\ \\\n",
    "    B=\\begin{bmatrix}\n",
    "    1 & 0\\\\\n",
    "    0 & 1\n",
    "    \\end{bmatrix}, \\ \\\n",
    "    H=\\begin{bmatrix}\n",
    "    0 & 1\\\\\n",
    "    1 & 0\n",
    "    \\end{bmatrix}\n",
    "$$"
   ]
  },
  {
   "cell_type": "code",
   "execution_count": 1,
   "metadata": {},
   "outputs": [],
   "source": [
    "# Importujemy potrzebne biblioteki\n",
    "from sympy import *\n",
    "import numpy as np\n",
    "\n",
    "def kryterium_Q(u1q: float, u2q: float) -> float:\n",
    "    \"\"\"Kryterium_Q $Q(u_{1}, u_{2}) = (y_{1}-1)^{2} + (y_{2}-2)^{2}$\n",
    "\n",
    "    Parameters\n",
    "    ----------\n",
    "    u1q : float\n",
    "        u1, dla którego liczymy Q\n",
    "    u2q : float\n",
    "        u2, dla którego liczymy Q\n",
    "\n",
    "    Returns\n",
    "    -------\n",
    "    float\n",
    "        Zwraca Q, zakładając, że będzie float'em\n",
    "    \"\"\"\n",
    "    return (u1q - 1) ** 2 + (u2q - 2) ** 2"
   ]
  },
  {
   "cell_type": "code",
   "execution_count": 2,
   "metadata": {},
   "outputs": [],
   "source": [
    "# Step komputacji\n",
    "step = 0.01\n",
    "# Promieć koła\n",
    "radius_Q = 1\n",
    "# Nasze u1 od -1 do 1, jako array NumPy\n",
    "u1 = np.arange(-1 + step, 1, step)\n",
    "# u2 jako symbol SymPy, będziemy na bierząco symbolicznie\n",
    "# obliczać jego przedziały\n",
    "u2 = Symbol(\"u2\")\n",
    "\n",
    "u1_od_u2 = np.array([])"
   ]
  },
  {
   "cell_type": "code",
   "execution_count": 3,
   "metadata": {},
   "outputs": [],
   "source": [
    "# Główna pętla komputacji\n",
    "for each_u1 in u1:\n",
    "    # Rozwiązujemy równanie żeby dostać przedział u2, dla danego u1\n",
    "    fKar = Poly(each_u1 ** 2 + u2 ** 2 - radius_Q, u2, domain=\"RR\")\n",
    "    sol = solve_poly_inequality(fKar, \"<=\")\n",
    "    u_start = sol[0].start.evalf()\n",
    "    u_end = sol[0].end.evalf()\n",
    "    # Tworzymy przedział u2, dla danego u1\n",
    "    xd = np.append(u1_od_u2, np.arange(u_start, u_end, 0.01))\n",
    "\n",
    "    # Obliczamy Q, dla każdego u1 i u2 z danego przedziału i znajdujemy najmniejsze\n",
    "    for each_u2 in np.arange(u_start, u_end, step):\n",
    "        if each_u2 == u_start and each_u1 == -1 + step:\n",
    "            q_min = kryterium_Q(each_u1, each_u2)\n",
    "        elif q_min > kryterium_Q(each_u1, each_u2):\n",
    "            q_min = kryterium_Q(each_u1, each_u2)\n",
    "            u1_min = each_u1\n",
    "            u2_min = each_u2"
   ]
  },
  {
   "cell_type": "code",
   "execution_count": 4,
   "metadata": {},
   "outputs": [
    {
     "name": "stdout",
     "output_type": "stream",
     "text": [
      "Qmin   = 1.54009766451582\n",
      "u1_min = 0.5100000000000013\n",
      "u2_min = 0.859825599078887\n"
     ]
    }
   ],
   "source": [
    "print(\"Qmin   = \"+str(q_min))\n",
    "print(\"u1_min = \"+str(u1_min))\n",
    "print(\"u2_min = \"+str(u2_min))"
   ]
  }
 ],
 "metadata": {
  "kernelspec": {
   "display_name": "Python 3",
   "language": "python",
   "name": "python3"
  },
  "language_info": {
   "codemirror_mode": {
    "name": "ipython",
    "version": 3
   },
   "file_extension": ".py",
   "mimetype": "text/x-python",
   "name": "python",
   "nbconvert_exporter": "python",
   "pygments_lexer": "ipython3",
   "version": "3.8.0"
  }
 },
 "nbformat": 4,
 "nbformat_minor": 4
}
