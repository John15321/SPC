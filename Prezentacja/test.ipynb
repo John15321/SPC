{
 "metadata": {
  "language_info": {
   "codemirror_mode": {
    "name": "ipython",
    "version": 3
   },
   "file_extension": ".py",
   "mimetype": "text/x-python",
   "name": "python",
   "nbconvert_exporter": "python",
   "pygments_lexer": "ipython3",
   "version": "3.9.0-final"
  },
  "orig_nbformat": 2,
  "kernelspec": {
   "name": "python37464bitbaseconda329b25ce2e68402abefcc2fc1b0eaddf",
   "display_name": "Python 3.7.4 64-bit ('base': conda)"
  }
 },
 "nbformat": 4,
 "nbformat_minor": 2,
 "cells": [
  {
   "cell_type": "code",
   "execution_count": 1,
   "metadata": {},
   "outputs": [
    {
     "output_type": "stream",
     "name": "stdout",
     "text": [
      "The voice recording.\nSampling frequency: 44100 [Hz]\nLength if the audio file (in samples): 216347\nLength of the audio recording: 4.905827664399093 [s]\n"
     ]
    }
   ],
   "source": [
    "from scipy.io.wavfile import read\n",
    "import numpy as np\n",
    "\n",
    "audio_file = read(\"janek_sample.wav\")\n",
    "fs = audio_file[0]\n",
    "print(\"The voice recording.\")\n",
    "print(\"Sampling frequency: {} [Hz]\".format(fs))\n",
    "pure_audio = audio_file[1]\n",
    "left_channel = pure_audio[:, 0]\n",
    "right_channel = pure_audio[:, 1]\n",
    "audio_len = len(left_channel)\n",
    "print(\"Length if the audio file (in samples): {}\".format(audio_len))\n",
    "audio_time = len(left_channel)/fs\n",
    "print(\"Length of the audio recording: {} [s]\".format(audio_time))"
   ]
  },
  {
   "cell_type": "code",
   "execution_count": 2,
   "metadata": {},
   "outputs": [
    {
     "output_type": "stream",
     "name": "stdout",
     "text": [
      "The voice recording.\nSampling frequency: 96000 [Hz]\nLength if the audio file (in samples): 391964\nLength of the audio recording: 4.082958333333333 [s]\n"
     ]
    }
   ],
   "source": [
    "imp_file = read(\"damp_room.wav\")\n",
    "fs_imp = imp_file[0]\n",
    "print(\"The voice recording.\")\n",
    "print(\"Sampling frequency: {} [Hz]\".format(fs_imp))\n",
    "pure_audio_imp = imp_file[1]\n",
    "left_channel_imp = pure_audio_imp[:, 0]\n",
    "right_channel_imp = pure_audio_imp[:, 1]\n",
    "audio_len_imp = len(left_channel_imp)\n",
    "print(\"Length if the audio file (in samples): {}\".format(audio_len_imp))\n",
    "audio_time_imp = len(left_channel_imp)/fs_imp\n",
    "print(\"Length of the audio recording: {} [s]\".format(audio_time_imp))"
   ]
  },
  {
   "cell_type": "code",
   "execution_count": 3,
   "metadata": {},
   "outputs": [],
   "source": [
    "convolved = np.convolve(left_channel_imp,  left_channel)"
   ]
  },
  {
   "cell_type": "code",
   "execution_count": 4,
   "metadata": {},
   "outputs": [],
   "source": [
    "from scipy.io.wavfile import write\n",
    "write('pythonowe.wav', 44100, convolved)"
   ]
  },
  {
   "cell_type": "code",
   "execution_count": null,
   "metadata": {},
   "outputs": [],
   "source": []
  }
 ]
}